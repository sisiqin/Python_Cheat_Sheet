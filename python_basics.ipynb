{
 "cells": [
  {
   "cell_type": "markdown",
   "metadata": {},
   "source": [
    "## 0.基本元素"
   ]
  },
  {
   "cell_type": "code",
   "execution_count": 20,
   "metadata": {
    "collapsed": false
   },
   "outputs": [
    {
     "data": {
      "text/plain": [
       "list"
      ]
     },
     "execution_count": 20,
     "metadata": {},
     "output_type": "execute_result"
    }
   ],
   "source": [
    "lst = [1, 2, 3]\n",
    "type(lst)"
   ]
  },
  {
   "cell_type": "code",
   "execution_count": 22,
   "metadata": {
    "collapsed": false
   },
   "outputs": [
    {
     "data": {
      "text/plain": [
       "tuple"
      ]
     },
     "execution_count": 22,
     "metadata": {},
     "output_type": "execute_result"
    }
   ],
   "source": [
    "tupl = (1, 2, 3)\n",
    "type(tupl)"
   ]
  },
  {
   "cell_type": "code",
   "execution_count": 23,
   "metadata": {
    "collapsed": false
   },
   "outputs": [
    {
     "data": {
      "text/plain": [
       "str"
      ]
     },
     "execution_count": 23,
     "metadata": {},
     "output_type": "execute_result"
    }
   ],
   "source": [
    "string = \"1, 2, 3\"\n",
    "type(string)"
   ]
  },
  {
   "cell_type": "code",
   "execution_count": 26,
   "metadata": {
    "collapsed": false
   },
   "outputs": [
    {
     "name": "stdout",
     "output_type": "stream",
     "text": [
      "<class 'dict'>\n",
      "a\n"
     ]
    }
   ],
   "source": [
    "dictionary = {1: \"a\", 2: \"b\"}\n",
    "print(type(dictionary))\n",
    "print(dictionary[1])"
   ]
  },
  {
   "cell_type": "markdown",
   "metadata": {},
   "source": [
    "## **1.如何写for loop**\n",
    "\n",
    "(1) Write a function **countVowels** to count up the number of vowels contained in a given string. Valid vowels are: 'a', 'e', 'i', 'o', 'u'. \n",
    "\n",
    "For example, countVowels('aeiou') should return 5. \n",
    "\n",
    "* for loop一定要跟if 判断，否则没法loop"
   ]
  },
  {
   "cell_type": "code",
   "execution_count": 2,
   "metadata": {
    "collapsed": false
   },
   "outputs": [
    {
     "name": "stdout",
     "output_type": "stream",
     "text": [
      "2\n"
     ]
    }
   ],
   "source": [
    "def countVowels(n):\n",
    "    count_number = 0\n",
    "    for i in n:\n",
    "        if i in \"aeiouAEIOU\":\n",
    "            count_number +=1\n",
    "    return count_number\n",
    "print(countVowels(\"look\"))"
   ]
  },
  {
   "cell_type": "markdown",
   "metadata": {},
   "source": [
    "## **2.如何把找到的东西放到一个dictionary里面**\n",
    "\n",
    "### 方法1: 先建一个空白的dictionary，再依次把东西放进去\n",
    "(5) write a function **countLetter** to count the number of frequencies of each letter occurs. In this case your function should only return the frequencies of letters that really occurs."
   ]
  },
  {
   "cell_type": "code",
   "execution_count": 5,
   "metadata": {
    "collapsed": false
   },
   "outputs": [
    {
     "name": "stdout",
     "output_type": "stream",
     "text": [
      "{'y': 1, 'i': 3, 'h': 1, 't': 2, 'r': 1, 's': 3}\n"
     ]
    }
   ],
   "source": [
    "def countLetter(word):\n",
    "    lower_letter = word.lower()\n",
    "    from string import ascii_lowercase\n",
    "    checklist = str(ascii_lowercase)\n",
    "    letterdict = {} ## 先建一个空白的dictionary\n",
    "    for i in lower_letter:\n",
    "        if i in checklist: \n",
    "            letterdict[i] = letterdict.get(i, 0) + 1 ## 注意看这里是怎么把key和value一块放进去的\n",
    "    return letterdict\n",
    "\n",
    "print(countLetter(\"sisi, try this\"))"
   ]
  },
  {
   "cell_type": "markdown",
   "metadata": {},
   "source": [
    "### 方法2：把key 和value变成两个string, 然后再把他们convert成一个dictionary\n",
    "\n",
    "**这一题有很多要点**\n",
    "\n",
    "* 如何读html格式的文件，并把它变成一个string\n",
    "* 如何写regular expression: 把用来查找的条件完整写出来，如“author=”，把要找的内容用regular expression表达。\n",
    "* 如何切分一个string：用re.split,和一个regular expression\n",
    "* 如何把两个string合成一个dictionary: 先zip，再dict（）"
   ]
  },
  {
   "cell_type": "code",
   "execution_count": 39,
   "metadata": {
    "collapsed": false
   },
   "outputs": [
    {
     "name": "stdout",
     "output_type": "stream",
     "text": [
      "{'deniszh': \"3'\", 'dreid': \"1'\", 'kost': \"1'\", 'polachok': \"14'\", 'yetanotherhacker': \"1'\", 'sharvilshah': \"23'\", 'tburgin': \"1'\", 'achmiel': \"3'\", 'theopolis': \"553'\", 'larzconwell': \"1'\", 'mlw': \"2'\", 'brandt': \"3'\", 'd0ugal': \"1'\", 'yannick': \"1'\", 'jreese': \"2'\", 'mtmcgrew': \"1'\", 'rjeczalik': \"1'\", 'mimeframe': \"3'\", 'maus-': \"9'\", 'vmauge': \"8'\", 'mark-ignacio': \"1'\", 'ecin': \"1'\", 'apage43': \"1'\", 'blackfist': \"1'\", 'DavidGosselin': \"1'\", 'timzimmermann': \"2'\", 'eastebry': \"9'\", 'jedi22': \"49'\", 'ga2arch': \"2'\", 'glensc': \"2'\", 'blakefrantz': \"6'\", 'maclennann': \"6'\", 'mofarrell': \"25'\", 'lwhsu': \"22'\", 'justintime32': \"1'\", 'wxsBSD': \"20'\", 'jamesgpearce': \"2'\", 'mathieuk': \"2'\", 'Anubisss': \"2'\", 'akshaydixi': \"5'\", 'arubdesu': \"1'\", 'arirubinstein': \"4'\", 'javuto': \"104'\", 'astanway': \"6'\", 'alex': \"1'\", 'vlajos': \"1'\", 'cdown': \"4'\", 'jacknagz': \"1'\", 'nlsun': \"3'\", 'SimplyAhmazing': \"1'\", 'stevenhilder': \"1']\", 'zwass': \"14'\", 'quad': \"1'\", 'marpaia': \"477'\", 'castrapel': \"2'\", 'shawndavenport': \"1'\", 'unixist': \"30'\", 'schettino72': \"2'\", 'mgoffin': \"2'\"}\n"
     ]
    }
   ],
   "source": [
    "import codecs\n",
    "from bs4 import BeautifulSoup\n",
    "f=codecs.open(\"data/osquery_contributors.html\", 'r', 'utf-8') ## 用这个读取文件\n",
    "html_str= BeautifulSoup(f.read(),\"html5lib\").get_text() ## 用这个把文件变成string\n",
    "\n",
    "\n",
    "import re \n",
    "raw_str = str(re.findall(r'author=[a-z,A-Z,0-9,-]{,50}\">[0-9]{,4}', html_str)) ## 写regular expression\n",
    "splited = re.split(\"[=>,\\\"]+\", raw_str) ## 切分\n",
    "names = splited[1::3] ## 从1号位开始，每隔两个位置，取一个string的元素\n",
    "commits = splited[2::3]\n",
    "contributors = dict(zip(names, commits)) ## 合成一个dictionary，先zip\n",
    "sorted(contributors)\n",
    "\n",
    "print(contributors)"
   ]
  },
  {
   "cell_type": "markdown",
   "metadata": {},
   "source": [
    "## 3. 如何写recursive call\n",
    "\n",
    "**tower of hanoi**\n",
    "\n",
    "* 写recursive call 的办法就是，直接把function写上，只是n 变成 n-1\n"
   ]
  },
  {
   "cell_type": "code",
   "execution_count": 19,
   "metadata": {
    "collapsed": false
   },
   "outputs": [
    {
     "name": "stdout",
     "output_type": "stream",
     "text": [
      "Move from 1 to 2.\n",
      "Move from 1 to 3.\n",
      "Move from 2 to 3.\n",
      "Move from 1 to 2.\n",
      "Move from 3 to 1.\n",
      "Move from 3 to 2.\n",
      "Move from 1 to 2.\n",
      "None\n"
     ]
    }
   ],
   "source": [
    "def hanoi(n, start, end, spare):\n",
    "    if n == 0:\n",
    "        return None\n",
    "    else:\n",
    "        hanoi(n-1, start, spare, end) ## 直接把参数放进去，但是 n 变成 n-1\n",
    "        print(\"Move from %s to %s.\" %(start, end))\n",
    "        hanoi(n-1, spare, end, start)\n",
    "\n",
    "print(hanoi(3, start = 1, end = 2, spare = 3))"
   ]
  },
  {
   "cell_type": "markdown",
   "metadata": {},
   "source": [
    "## 4. 如何写class \n"
   ]
  },
  {
   "cell_type": "code",
   "execution_count": 36,
   "metadata": {
    "collapsed": false
   },
   "outputs": [
    {
     "name": "stdout",
     "output_type": "stream",
     "text": [
      "<class '__main__.People'>\n",
      "Jack's ID is:  1\n",
      "My name is Jack, I'm 20 years old. My Id number is 1.\n",
      " \n",
      "Now let's see how to use functions\n",
      "My name is Jack, I'm 21 years old. My Id number is 1.\n"
     ]
    }
   ],
   "source": [
    "class People(object):\n",
    "    def __init__(self, Name, Id, Age_):\n",
    "        self.Name = Name\n",
    "        self.Id = Id\n",
    "        self.Age = Age_ ## 上一个Age_是pass到右边的Age_,再pass给左边的Age的！把parameter Age_ 变成method Age.\n",
    "        \n",
    "    def __str__(self): ## 要print的东西用—str—\n",
    "        return \"My name is %s, I'm %s years old. My Id number is %s.\" %(self.Name, self.Age, self.Id)\n",
    "        \n",
    "    def addAge(self):\n",
    "        self.Age = self.Age + 1\n",
    "    \n",
    "    def alterName(self, newName):\n",
    "        self.Name = newName\n",
    "\n",
    "\n",
    "Jack = People('Jack', 1, 20)\n",
    "\n",
    "print(type(Jack))\n",
    "print(Jack.Id) # how to use initial parameters\n",
    "print(Jack)\n",
    "Jack.addAge() # how to use functions\n",
    "print (Jack)"
   ]
  },
  {
   "cell_type": "markdown",
   "metadata": {},
   "source": [
    "## 5. 如何把dictionary 变成list, 并sort这个list"
   ]
  },
  {
   "cell_type": "code",
   "execution_count": 43,
   "metadata": {
    "collapsed": false
   },
   "outputs": [
    {
     "name": "stdout",
     "output_type": "stream",
     "text": [
      "['b', 'a', 'c']\n"
     ]
    }
   ],
   "source": [
    "d = {'a': 5, 'b': 3, 'c':2}\n",
    "list(d)\n",
    "print(list(d)) ## 看，直接变是不可以的！那怎么办呢！"
   ]
  },
  {
   "cell_type": "code",
   "execution_count": 51,
   "metadata": {
    "collapsed": false
   },
   "outputs": [
    {
     "name": "stdout",
     "output_type": "stream",
     "text": [
      "{'b': 3, 'a': 5, 'c': 2}\n",
      "dict_items([('b', 3), ('a', 5), ('c', 2)])\n",
      "[('b', 3), ('a', 5), ('c', 2)]\n",
      "<class 'list'>\n"
     ]
    },
    {
     "data": {
      "text/plain": [
       "[('c', 2), ('b', 3), ('a', 5)]"
      ]
     },
     "execution_count": 51,
     "metadata": {},
     "output_type": "execute_result"
    }
   ],
   "source": [
    "d = {'a': 5, 'b': 3, 'c':2}\n",
    "print(d)\n",
    "d = d.items() # convert to a dict.items, each element of this item is a tuple. \n",
    "print(d)\n",
    "tolist_d = list(d)\n",
    "print(tolist_d)\n",
    "print(type(tolist_d)) ## 这样就是一个list了\n",
    "sorted(d, key = lambda x: x[1])#sort每个list element的第二个element x 是argument, x[1]的意思是按照第2个element排序"
   ]
  },
  {
   "cell_type": "markdown",
   "metadata": {},
   "source": [
    "## 6. regular expression\n",
    "\n"
   ]
  },
  {
   "cell_type": "markdown",
   "metadata": {},
   "source": [
    "* dot(.):代表match前面的，后面是什么都行"
   ]
  },
  {
   "cell_type": "code",
   "execution_count": 52,
   "metadata": {
    "collapsed": false
   },
   "outputs": [
    {
     "name": "stdout",
     "output_type": "stream",
     "text": [
      "True\n",
      "False\n",
      "True\n"
     ]
    }
   ],
   "source": [
    "print (re.search('a.', 'aa') != None) \n",
    "print (re.search('b.', 'aa') != None)\n",
    "print (re.search('a.', 'aadhfbrbf') != None)"
   ]
  },
  {
   "cell_type": "markdown",
   "metadata": {},
   "source": [
    "* ?: match 0-1 time. use it in the middle. "
   ]
  },
  {
   "cell_type": "code",
   "execution_count": 65,
   "metadata": {
    "collapsed": false
   },
   "outputs": [
    {
     "name": "stdout",
     "output_type": "stream",
     "text": [
      "True\n",
      "False\n",
      "True\n",
      "False\n"
     ]
    }
   ],
   "source": [
    "print (re.search('b?ab', 'bab') != None )  # match\n",
    "print (re.search('ba?b', 'baab') != None ) # does not match\n",
    "print (re.search('ba?b', 'bb') != None )   # match\n",
    "print (re.search('ba?b', 'ba') != None )"
   ]
  },
  {
   "cell_type": "markdown",
   "metadata": {},
   "source": [
    "* +: match 一次及以上"
   ]
  },
  {
   "cell_type": "code",
   "execution_count": 66,
   "metadata": {
    "collapsed": false
   },
   "outputs": [
    {
     "name": "stdout",
     "output_type": "stream",
     "text": [
      "False\n",
      "True\n",
      "True\n"
     ]
    }
   ],
   "source": [
    "print( re.search('ba+b', 'bb') != None  )  # 0 times，does not match\n",
    "print( re.search('ba+b', 'bab') != None   )# match\n",
    "print( re.search('ba+b', 'baab') != None  )# match"
   ]
  },
  {
   "cell_type": "markdown",
   "metadata": {},
   "source": [
    "* *：match0 - n次"
   ]
  },
  {
   "cell_type": "code",
   "execution_count": 72,
   "metadata": {
    "collapsed": false
   },
   "outputs": [
    {
     "name": "stdout",
     "output_type": "stream",
     "text": [
      "True\n",
      "True\n",
      "True\n"
     ]
    }
   ],
   "source": [
    "print (re.search('ba*b', 'bb') != None )   # match\n",
    "print (re.search('ba*b', 'bab') != None )  # match\n",
    "print (re.search('ba*b', 'baaaaaab') != None ) # match"
   ]
  },
  {
   "cell_type": "markdown",
   "metadata": {},
   "source": [
    "* {n, m}:限制match的次数，至少n次，至多m次，有default"
   ]
  },
  {
   "cell_type": "code",
   "execution_count": 76,
   "metadata": {
    "collapsed": false
   },
   "outputs": [
    {
     "name": "stdout",
     "output_type": "stream",
     "text": [
      "True\n",
      "False\n",
      "False\n"
     ]
    }
   ],
   "source": [
    "print( re.search('ba{1,3}b', 'bab') != None    )# match a 1-3次\n",
    "print( re.search('ba{1,3}b', 'ab') != None    )\n",
    "print( re.search('ba{1,3}b', 'baaaaaaaab') != None    )"
   ]
  },
  {
   "cell_type": "markdown",
   "metadata": {},
   "source": [
    "* ():括号里的当成一个整体，必须完全match"
   ]
  },
  {
   "cell_type": "code",
   "execution_count": 86,
   "metadata": {
    "collapsed": false
   },
   "outputs": [
    {
     "name": "stdout",
     "output_type": "stream",
     "text": [
      "False\n",
      "True\n",
      "True\n",
      "False\n"
     ]
    }
   ],
   "source": [
    "print( re.search('(ba){1,3}b', 'ab') != None    )\n",
    "print( re.search('(ba){1,3}b', 'bab') != None    )\n",
    "print( re.search('(ba){1,3}b', 'babababab') != None    )# 这个也是可以通过的，因为第二个表达确实包含了1-3个“ba”。怎么限制呢？\n",
    "print (re.search('^(ba){2}$', 'babababab')  != None )  # ^代表由此开头，$代表到此结尾"
   ]
  },
  {
   "cell_type": "markdown",
   "metadata": {},
   "source": [
    "* ^ 代表开头，$代表结尾"
   ]
  },
  {
   "cell_type": "code",
   "execution_count": 88,
   "metadata": {
    "collapsed": false
   },
   "outputs": [
    {
     "name": "stdout",
     "output_type": "stream",
     "text": [
      "False\n",
      "True\n"
     ]
    }
   ],
   "source": [
    "print (re.search('^(ba){2}$', 'babababab')  != None )\n",
    "print (re.search('^(ba){2}$', 'baba')  != None )"
   ]
  },
  {
   "cell_type": "markdown",
   "metadata": {},
   "source": [
    "* [ ]：match中括号里的任意内容"
   ]
  },
  {
   "cell_type": "code",
   "execution_count": 89,
   "metadata": {
    "collapsed": false
   },
   "outputs": [
    {
     "name": "stdout",
     "output_type": "stream",
     "text": [
      "False\n",
      "True\n"
     ]
    }
   ],
   "source": [
    "print (re.search('[123abc]', 'defg')  != None)  \n",
    "print (re.search('[123a-z]', 'defg')  != None) "
   ]
  },
  {
   "cell_type": "markdown",
   "metadata": {},
   "source": [
    "* | : 左右至少满足一边"
   ]
  },
  {
   "cell_type": "code",
   "execution_count": 94,
   "metadata": {
    "collapsed": false
   },
   "outputs": [
    {
     "name": "stdout",
     "output_type": "stream",
     "text": [
      "False\n",
      "True\n",
      "True\n"
     ]
    }
   ],
   "source": [
    "print (re.search('abc|123', 'a') != None)   # 至少要满足一个set\n",
    "print (re.search('abc|123', 'abc') != None)\n",
    "print (re.search('abc|123', 'abc123') != None)"
   ]
  },
  {
   "cell_type": "markdown",
   "metadata": {},
   "source": [
    "* \\：escape"
   ]
  },
  {
   "cell_type": "code",
   "execution_count": 99,
   "metadata": {
    "collapsed": false
   },
   "outputs": [
    {
     "name": "stdout",
     "output_type": "stream",
     "text": [
      "True\n"
     ]
    }
   ],
   "source": [
    "print (re.search('\\??', 'Hi, how are you today?') != None) # 第一个问号被escape了，不代表“match0-1time”，只代表问号。\n",
    "                                                           #第二个问号的意思是：if question mark is there or not "
   ]
  },
  {
   "cell_type": "markdown",
   "metadata": {},
   "source": [
    "* 如何用regular expression 代替各种分隔符来分割文段"
   ]
  },
  {
   "cell_type": "code",
   "execution_count": 100,
   "metadata": {
    "collapsed": true
   },
   "outputs": [
    {
     "data": {
      "text/plain": [
       "['The',\n",
       " 're',\n",
       " 'module',\n",
       " 'was',\n",
       " 'added',\n",
       " 'in',\n",
       " 'Python',\n",
       " '1',\n",
       " '5',\n",
       " '',\n",
       " '\\nand',\n",
       " 'provides',\n",
       " 'Perl',\n",
       " 'style',\n",
       " 'regular',\n",
       " 'expression',\n",
       " 'patterns',\n",
       " '',\n",
       " '\\nEarlier',\n",
       " 'versions',\n",
       " 'of',\n",
       " 'Python',\n",
       " 'came',\n",
       " 'with',\n",
       " 'the',\n",
       " 'regex',\n",
       " 'module',\n",
       " '',\n",
       " '\\nwhich',\n",
       " 'provided',\n",
       " 'Emacs',\n",
       " 'style',\n",
       " 'patterns',\n",
       " '',\n",
       " '\\nThe',\n",
       " 'regex',\n",
       " 'module',\n",
       " 'was',\n",
       " 'removed',\n",
       " 'completely',\n",
       " 'in',\n",
       " 'Python',\n",
       " '2',\n",
       " '5',\n",
       " '']"
      ]
     },
     "execution_count": 100,
     "metadata": {},
     "output_type": "execute_result"
    }
   ],
   "source": [
    "s = '''The re module was added in Python 1.5, \n",
    "and provides Perl-style regular expression patterns. \n",
    "Earlier versions of Python came with the regex module, \n",
    "which provided Emacs-style patterns. \n",
    "The regex module was removed completely in Python 2.5.'''\n",
    "re.split('[ ,.-]',s) ## 想把所有的单词分出来"
   ]
  },
  {
   "cell_type": "markdown",
   "metadata": {},
   "source": [
    "<code>\n",
    "Identifiers:\n",
    "\n",
    "\\d = any number\n",
    "\\D = anything but a number\n",
    "\\s = space\n",
    "\\S = anything but a space\n",
    "\\w = any letter\n",
    "\\W = anything but a letter\n",
    ". = any character, except for a new line\n",
    "\\b = space around whole words\n",
    "\\. = period. must use backslash, because . normally means any character.\n",
    "\n",
    "Modifiers:\n",
    "\n",
    "{1,3} = for digits, u expect 1-3 counts of digits, or \"places\"\n",
    "\\+ = match 1 or more\n",
    "? = match 0 or 1 repetitions.\n",
    "\\* = match 0 or MORE repetitions\n",
    "$ = matches at the end of string\n",
    "^ = matches start of a string\n",
    "| = matches either/or. Example x|y = will match either x or y\n",
    "[] = range, or \"variance\"\n",
    "{x} = expect to see this amount of the preceding .\n",
    "{x,y} = expect to see this x-y amounts of the precedng \n",
    "\n",
    "White Space Charts:\n",
    "\n",
    "\\n = new line\n",
    "\\s = space\n",
    "\\t = tab\n",
    "\\e = escape\n",
    "\\f = form feed\n",
    "\\r = carriage return\n",
    "\n",
    "Characters to REMEMBER TO ESCAPE IF USED!\n",
    "\n",
    ". + * ? [ ] $ ^ ( ) { } | \\\n",
    "\n",
    "Brackets:\n",
    "\n",
    "[] = quant[ia]tative = will find either quantitative, or quantatative.\n",
    "[a-z] = return any lowercase letter a-z\n",
    "[1-5a-qA-Z] = return all numbers 1-5, lowercase letters a-q and uppercase A-Z\n",
    "</code>"
   ]
  },
  {
   "cell_type": "markdown",
   "metadata": {
    "collapsed": true
   },
   "source": [
    "## 7. 只保留一个list里unique的元素"
   ]
  },
  {
   "cell_type": "code",
   "execution_count": 1,
   "metadata": {
    "collapsed": false
   },
   "outputs": [
    {
     "data": {
      "text/plain": [
       "{1, 2, 3}"
      ]
     },
     "execution_count": 1,
     "metadata": {},
     "output_type": "execute_result"
    }
   ],
   "source": [
    "births = [1, 2, 3, 1]\n",
    "set(births)"
   ]
  },
  {
   "cell_type": "code",
   "execution_count": null,
   "metadata": {
    "collapsed": true
   },
   "outputs": [],
   "source": []
  }
 ],
 "metadata": {
  "anaconda-cloud": {},
  "kernelspec": {
   "display_name": "Python [conda env:python3]",
   "language": "python",
   "name": "conda-env-python3-py"
  },
  "language_info": {
   "codemirror_mode": {
    "name": "ipython",
    "version": 3
   },
   "file_extension": ".py",
   "mimetype": "text/x-python",
   "name": "python",
   "nbconvert_exporter": "python",
   "pygments_lexer": "ipython3",
   "version": "3.5.3"
  }
 },
 "nbformat": 4,
 "nbformat_minor": 2
}
