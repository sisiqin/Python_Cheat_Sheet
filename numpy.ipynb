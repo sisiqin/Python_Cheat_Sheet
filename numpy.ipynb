{
 "cells": [
  {
   "cell_type": "code",
   "execution_count": 1,
   "metadata": {
    "collapsed": true
   },
   "outputs": [],
   "source": [
    "import numpy as np"
   ]
  },
  {
   "cell_type": "markdown",
   "metadata": {},
   "source": [
    "## 0. array &matrix 长啥样"
   ]
  },
  {
   "cell_type": "code",
   "execution_count": 7,
   "metadata": {
    "collapsed": false
   },
   "outputs": [
    {
     "name": "stdout",
     "output_type": "stream",
     "text": [
      "[1 1 1]\n",
      "<class 'numpy.ndarray'>\n",
      "[[1 2 3]\n",
      " [4 5 6]\n",
      " [7 8 9]]\n",
      "<class 'numpy.matrixlib.defmatrix.matrix'>\n"
     ]
    }
   ],
   "source": [
    "arry = np.array([1, 1, 1])\n",
    "matrx = np.matrix([[1, 2, 3],\n",
    "              [4, 5, 6],\n",
    "              [7, 8, 9]]) ## 注意matrix本身是要套一个【】的，所以是双【】\n",
    "print(arry)\n",
    "print(type(arry))\n",
    "print(matrx)\n",
    "print(type(matrx))"
   ]
  },
  {
   "cell_type": "markdown",
   "metadata": {},
   "source": [
    "* 如何取一个matrix里的值"
   ]
  },
  {
   "cell_type": "code",
   "execution_count": 8,
   "metadata": {
    "collapsed": false
   },
   "outputs": [
    {
     "data": {
      "text/plain": [
       "5"
      ]
     },
     "execution_count": 8,
     "metadata": {},
     "output_type": "execute_result"
    }
   ],
   "source": [
    "matrx[1,1] # 这是第二排第二个数"
   ]
  },
  {
   "cell_type": "code",
   "execution_count": 9,
   "metadata": {
    "collapsed": false
   },
   "outputs": [
    {
     "data": {
      "text/plain": [
       "matrix([[4, 5, 6]])"
      ]
     },
     "execution_count": 9,
     "metadata": {},
     "output_type": "execute_result"
    }
   ],
   "source": [
    "matrx[1]"
   ]
  },
  {
   "cell_type": "markdown",
   "metadata": {},
   "source": [
    "* 如何看matrix的行列数"
   ]
  },
  {
   "cell_type": "code",
   "execution_count": 20,
   "metadata": {
    "collapsed": false
   },
   "outputs": [
    {
     "data": {
      "text/plain": [
       "(3, 3)"
      ]
     },
     "execution_count": 20,
     "metadata": {},
     "output_type": "execute_result"
    }
   ],
   "source": [
    "matrx.shape ## 不跟括号。非常诡异！"
   ]
  },
  {
   "cell_type": "markdown",
   "metadata": {},
   "source": [
    "* 想改它的shape也可以"
   ]
  },
  {
   "cell_type": "code",
   "execution_count": 22,
   "metadata": {
    "collapsed": false
   },
   "outputs": [
    {
     "data": {
      "text/plain": [
       "matrix([[1],\n",
       "        [2],\n",
       "        [3],\n",
       "        [4],\n",
       "        [5],\n",
       "        [6],\n",
       "        [7],\n",
       "        [8],\n",
       "        [9]])"
      ]
     },
     "execution_count": 22,
     "metadata": {},
     "output_type": "execute_result"
    }
   ],
   "source": [
    "matrx.reshape([9, 1])"
   ]
  },
  {
   "cell_type": "markdown",
   "metadata": {},
   "source": [
    "## 1. 四则运算"
   ]
  },
  {
   "cell_type": "markdown",
   "metadata": {},
   "source": [
    "* 加减除都妥妥哒"
   ]
  },
  {
   "cell_type": "code",
   "execution_count": 11,
   "metadata": {
    "collapsed": false
   },
   "outputs": [
    {
     "name": "stdout",
     "output_type": "stream",
     "text": [
      "[[ 2  4  4]\n",
      " [ 8 10 18]]\n",
      "[[0 0 2]\n",
      " [0 0 6]]\n",
      "[[ 1.  1.  3.]\n",
      " [ 1.  1.  2.]]\n"
     ]
    }
   ],
   "source": [
    "a1 = np.mat([[1, 2, 3], [4, 5, 12]])\n",
    "a2 = np.mat([[1, 2, 1], [4, 5, 6]])\n",
    "print (a1 + a2)\n",
    "print (a1 - a2)\n",
    "print (a1 / a2)"
   ]
  },
  {
   "cell_type": "markdown",
   "metadata": {},
   "source": [
    "* 乘法，必须遵守线性代数规则：只能乘Mij * Mjz, 得到一个新的 Miz. 第一个matrix的列和第二个matrix的行必须match\n",
    "* 直接m1*m2是点积，也可以用np.dot(a1, a2)表示\n",
    "* 想做叉积，必须用np.cross(a1, a2)"
   ]
  },
  {
   "cell_type": "code",
   "execution_count": 13,
   "metadata": {
    "collapsed": false
   },
   "outputs": [
    {
     "data": {
      "text/plain": [
       "matrix([[  8,  32],\n",
       "        [ 26, 113]])"
      ]
     },
     "execution_count": 13,
     "metadata": {},
     "output_type": "execute_result"
    }
   ],
   "source": [
    "a1*a2.T # T是转置 "
   ]
  },
  {
   "cell_type": "code",
   "execution_count": 14,
   "metadata": {
    "collapsed": false
   },
   "outputs": [
    {
     "data": {
      "text/plain": [
       "matrix([[  8,  32],\n",
       "        [ 26, 113]])"
      ]
     },
     "execution_count": 14,
     "metadata": {},
     "output_type": "execute_result"
    }
   ],
   "source": [
    "np.dot(a1,a2.T)"
   ]
  },
  {
   "cell_type": "code",
   "execution_count": 18,
   "metadata": {
    "collapsed": false
   },
   "outputs": [
    {
     "data": {
      "text/plain": [
       "array([[ -6,   3,   0],\n",
       "       [-24,  12,   3]])"
      ]
     },
     "execution_count": 18,
     "metadata": {},
     "output_type": "execute_result"
    }
   ],
   "source": [
    "a3 = np.matrix([[1, 2]])\n",
    "np.cross(a1,a3)"
   ]
  },
  {
   "cell_type": "markdown",
   "metadata": {},
   "source": [
    "## 2. 转置和奇异矩阵"
   ]
  },
  {
   "cell_type": "code",
   "execution_count": 28,
   "metadata": {
    "collapsed": false
   },
   "outputs": [
    {
     "name": "stdout",
     "output_type": "stream",
     "text": [
      "[[ 1.   0.5]\n",
      " [ 0.5  1. ]]\n",
      "[[ 1.33333333 -0.66666667]\n",
      " [-0.66666667  1.33333333]]\n"
     ]
    }
   ],
   "source": [
    "m = np.mat([[1, .5], [.5, 1]])\n",
    "print(m)\n",
    "print(m.I) ## singular matrix"
   ]
  },
  {
   "cell_type": "code",
   "execution_count": 29,
   "metadata": {
    "collapsed": false
   },
   "outputs": [
    {
     "name": "stdout",
     "output_type": "stream",
     "text": [
      "[[1 2 1]\n",
      " [4 5 6]]\n",
      "[[1 4]\n",
      " [2 5]\n",
      " [1 6]]\n"
     ]
    }
   ],
   "source": [
    "print(a2)\n",
    "print(a2.T) # T是转置 "
   ]
  },
  {
   "cell_type": "markdown",
   "metadata": {},
   "source": [
    "## 3. matrix & array 互相转换"
   ]
  },
  {
   "cell_type": "markdown",
   "metadata": {},
   "source": [
    "* matrix to array"
   ]
  },
  {
   "cell_type": "code",
   "execution_count": 32,
   "metadata": {
    "collapsed": false
   },
   "outputs": [
    {
     "data": {
      "text/plain": [
       "array([[3, 2, 1]])"
      ]
     },
     "execution_count": 32,
     "metadata": {},
     "output_type": "execute_result"
    }
   ],
   "source": [
    "m = np.mat([3, 2, 1])\n",
    "a = np.array(m) \n",
    "a"
   ]
  },
  {
   "cell_type": "markdown",
   "metadata": {},
   "source": [
    "* array to matrix"
   ]
  },
  {
   "cell_type": "code",
   "execution_count": 33,
   "metadata": {
    "collapsed": false
   },
   "outputs": [
    {
     "data": {
      "text/plain": [
       "matrix([[3, 2, 1]])"
      ]
     },
     "execution_count": 33,
     "metadata": {},
     "output_type": "execute_result"
    }
   ],
   "source": [
    "np.mat(a)"
   ]
  },
  {
   "cell_type": "markdown",
   "metadata": {},
   "source": [
    "## 4. 用numpy generate random number from normal distribution "
   ]
  },
  {
   "cell_type": "code",
   "execution_count": 51,
   "metadata": {
    "collapsed": false
   },
   "outputs": [
    {
     "data": {
      "text/plain": [
       "(array([  7.,   9.,   9.,  16.,  23.,  17.,   9.,   8.,   1.,   1.]),\n",
       " array([ -1.31245667,   0.13691864,   1.58629395,   3.03566926,\n",
       "          4.48504457,   5.93441988,   7.38379519,   8.8331705 ,\n",
       "         10.28254581,  11.73192112,  13.18129643]),\n",
       " <a list of 10 Patch objects>)"
      ]
     },
     "execution_count": 51,
     "metadata": {},
     "output_type": "execute_result"
    },
    {
     "data": {
      "image/png": "[encoded data removed]",
      "text/plain": [
       "<matplotlib.figure.Figure at 0x1135fee48>"
      ]
     },
     "metadata": {},
     "output_type": "display_data"
    }
   ],
   "source": [
    "from numpy import random\n",
    "x = 3*random.randn(100)+5 #sd = 3, mean = 5\n",
    "\n",
    "%matplotlib inline \n",
    "import matplotlib.pyplot as plt\n",
    "plt.hist(x)\n"
   ]
  },
  {
   "cell_type": "markdown",
   "metadata": {},
   "source": [
    "## 5. numpy 常用的function"
   ]
  },
  {
   "cell_type": "markdown",
   "metadata": {},
   "source": [
    "<table>\n",
    "<thead><tr>\n",
    "<th>Function</th>\n",
    "<th>Description</th>\n",
    "</tr>\n",
    "</thead>\n",
    "<tbody>\n",
    "<tr>\n",
    "<td>abs, fabs</td>\n",
    "<td>Compute the absolute value element-wise for integer, floating point, or complex values. Use fabs as a faster alternative for non-complex-valued data.</td>\n",
    "</tr>\n",
    "<tr>\n",
    "<td>sqrt</td>\n",
    "<td>Compute the square root of each element.</td>\n",
    "</tr>\n",
    "<tr>\n",
    "<td>square</td>\n",
    "<td>Compute the square of each element. </td>\n",
    "</tr>\n",
    "<tr>\n",
    "<td>exp</td>\n",
    "<td>Compute the exponent e x of each element</td>\n",
    "</tr>\n",
    "<tr>\n",
    "<td>log, log10, log2, log1p</td>\n",
    "<td>Natural logarithm (base e), log base 10, log base 2, and log(1 + x), respectively</td>\n",
    "</tr>\n",
    "<tr>\n",
    "<td>sign</td>\n",
    "<td>Compute the sign of each element: 1 (positive), 0 (zero), or -1 (negative)</td>\n",
    "</tr>\n",
    "<tr>\n",
    "<td>ceil</td>\n",
    "<td>Compute the ceiling of each element, i.e. the smallest integer greater than or equal to each element</td>\n",
    "</tr>\n",
    "<tr>\n",
    "<td>floor</td>\n",
    "<td>Compute the floor of each element, i.e. the largest integer less than or equal to each element</td>\n",
    "</tr>\n",
    "<tr>\n",
    "<td>rint</td>\n",
    "<td>Round elements to the nearest integer, preserving the dtype</td>\n",
    "</tr>\n",
    "<tr>\n",
    "<td>modf</td>\n",
    "<td>Return fractional and integral parts of array as separate array</td>\n",
    "</tr>\n",
    "<tr>\n",
    "<td>isnan</td>\n",
    "<td>Return boolean array indicating whether each value is NaN (Not a Number)</td>\n",
    "</tr>\n",
    "<tr>\n",
    "<td>isfinite, isinf</td>\n",
    "<td>Return boolean array indicating whether each element is finite (non- inf , non- NaN ) or infinite, respectively</td>\n",
    "</tr>\n",
    "<tr>\n",
    "<td>cos, cosh, sin, sinh, tan, tanh</td>\n",
    "<td>Regular and hyperbolic trigonometric functions</td>\n",
    "</tr>\n",
    "<tr>\n",
    "<td>arccos, arccosh, arcsin, arcsinh, arctan, arctanh</td>\n",
    "<td>Inverse trigonometric functions</td>\n",
    "</tr>\n",
    "</tbody>\n",
    "</table>"
   ]
  },
  {
   "cell_type": "code",
   "execution_count": null,
   "metadata": {
    "collapsed": false
   },
   "outputs": [],
   "source": []
  },
  {
   "cell_type": "code",
   "execution_count": null,
   "metadata": {
    "collapsed": true
   },
   "outputs": [],
   "source": []
  }
 ],
 "metadata": {
  "anaconda-cloud": {},
  "kernelspec": {
   "display_name": "Python [conda env:python3]",
   "language": "python",
   "name": "conda-env-python3-py"
  },
  "language_info": {
   "codemirror_mode": {
    "name": "ipython",
    "version": 3
   },
   "file_extension": ".py",
   "mimetype": "text/x-python",
   "name": "python",
   "nbconvert_exporter": "python",
   "pygments_lexer": "ipython3",
   "version": "3.5.3"
  }
 },
 "nbformat": 4,
 "nbformat_minor": 2
}
